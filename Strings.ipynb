{
 "cells": [
  {
   "cell_type": "markdown",
   "metadata": {},
   "source": [
    "<b>Topics</b>\n",
    "<ul>\n",
    "<li>Strings</li>\n",
    "<li>String Functions</li>\n",
    "</ul>"
   ]
  },
  {
   "cell_type": "code",
   "execution_count": null,
   "metadata": {},
   "outputs": [],
   "source": [
    "name = \"Welcome to Python\"\n",
    "print(name)\n",
    "print(len(name))"
   ]
  },
  {
   "cell_type": "markdown",
   "metadata": {},
   "source": [
    "### Note\n",
    "1) Indexes start from 0 towards positive from left to right<br>\n",
    "2) Indexes start from -1 towards negative from right to left."
   ]
  },
  {
   "cell_type": "markdown",
   "metadata": {},
   "source": [
    "## Indexing\n",
    "Indexing returns the character present at a particular index"
   ]
  },
  {
   "cell_type": "code",
   "execution_count": null,
   "metadata": {},
   "outputs": [],
   "source": [
    "print(name)\n",
    "print(name[0])\n",
    "print(name[2])\n",
    "print(name[7])\n",
    "print(name[3])\n",
    "print(name[19])"
   ]
  },
  {
   "cell_type": "code",
   "execution_count": null,
   "metadata": {},
   "outputs": [],
   "source": [
    "print(name)\n",
    "print(name[-1])\n",
    "print(name[-5])\n",
    "print(name[-14])"
   ]
  },
  {
   "cell_type": "code",
   "execution_count": null,
   "metadata": {},
   "outputs": [],
   "source": [
    "a = \"Game\"\n",
    "print(len(a))\n",
    "print(a[0])\n",
    "print(a[1])\n",
    "print(a[2])\n",
    "print(a[3])\n",
    "print('------')\n",
    "print(a[-1])\n",
    "print(a[-2])\n",
    "print(a[-3])\n",
    "print(a[-4])"
   ]
  },
  {
   "cell_type": "markdown",
   "metadata": {},
   "source": [
    "### Slicing\n",
    "a= \"string\"<br>\n",
    "syntax = <b>a[start : end : step]</b><br>\n",
    "1) <b>start</b> - Index from where slicing starts. If absent deafult value is 0, if slicing is done from left to right<br>\n",
    "2) <b>end</b> - index upto which string will be sliced.<br>\n",
    "3) <b>step</b> - no of characters to skip or jump while slicing. if absent default step size is +1<br>\n",
    "All paramaters are optional"
   ]
  },
  {
   "cell_type": "markdown",
   "metadata": {},
   "source": [
    "### Left to Right Slicing\n",
    "1) String is sliced till index end-1<br>\n",
    "2) Step has to be a positive number"
   ]
  },
  {
   "cell_type": "code",
   "execution_count": null,
   "metadata": {},
   "outputs": [],
   "source": [
    "name = \"Welcome to Python\"\n",
    "print(name)\n",
    "print(len(name))\n",
    "print(name[2:9])  # default step is +1\n",
    "print(name[2:9:1])"
   ]
  },
  {
   "cell_type": "code",
   "execution_count": null,
   "metadata": {},
   "outputs": [],
   "source": [
    "print(name[3:8]) # from index 3 till 7\n",
    "print(name[2:14]) # from index 2 till 13\n",
    "print(name[10:]) # from index 10 till end\n",
    "print(name[:7])  # from index 0 till 6\n",
    "print(name[:])\n",
    "print(name[::])\n",
    "# print(name[start : end : step])"
   ]
  },
  {
   "cell_type": "code",
   "execution_count": null,
   "metadata": {},
   "outputs": [],
   "source": [
    "print(name)\n",
    "print(name[:-3]) # from 0 to till index -4\n",
    "print(name[-5:]) # from -5 till end\n",
    "print(name[4:-5]) # from index 4 till -6"
   ]
  },
  {
   "cell_type": "code",
   "execution_count": null,
   "metadata": {},
   "outputs": [],
   "source": [
    "print(name[2:12:2])\n",
    "print(name[3:11:3])"
   ]
  },
  {
   "cell_type": "code",
   "execution_count": null,
   "metadata": {},
   "outputs": [],
   "source": [
    "print(name[3:-2])\n",
    "print(name[4:-3])\n",
    "print(name[-11:12])\n",
    "print(name[-11:-4])\n",
    "print(name[5:10])"
   ]
  },
  {
   "cell_type": "code",
   "execution_count": null,
   "metadata": {},
   "outputs": [],
   "source": [
    "print(name[3:-2:2])\n",
    "print(name[4:-3:3])\n",
    "print(name[-11:12:3])\n",
    "print(name[-9:-4:2])\n",
    "print(name[2:-5:3])\n",
    "print(name[-15:14:2])"
   ]
  },
  {
   "cell_type": "code",
   "execution_count": null,
   "metadata": {},
   "outputs": [],
   "source": [
    "print(name[4:9])\n",
    "print(name[4:9:1])"
   ]
  },
  {
   "cell_type": "code",
   "execution_count": null,
   "metadata": {},
   "outputs": [],
   "source": [
    "print(name[3:10])\n",
    "print(name[-8:12:1])"
   ]
  },
  {
   "cell_type": "markdown",
   "metadata": {},
   "source": [
    "### Right to Left Slicing\n",
    "1) String is sliced till index end+1<br>\n",
    "2) Step has to be a negative number"
   ]
  },
  {
   "cell_type": "code",
   "execution_count": null,
   "metadata": {},
   "outputs": [],
   "source": [
    "print(name[-3:4])  # assumed output - htyP ot em\n",
    "print(name[-3:4:1])"
   ]
  },
  {
   "cell_type": "code",
   "execution_count": null,
   "metadata": {},
   "outputs": [],
   "source": [
    "print(name)\n",
    "print(name[-3:4:-1])\n",
    "print(name[3:15:-1])"
   ]
  },
  {
   "cell_type": "code",
   "execution_count": null,
   "metadata": {},
   "outputs": [],
   "source": [
    "print(name[3:8:-1]) # no output\n",
    "print(name[-2:-12:-2])\n",
    "print(name[-3:4:2]) # no output\n",
    "print(name[5:-2:3])\n",
    "print(name[3:-11:-2]) # no output\n",
    "print(name[15:-11:-2])\n",
    "print(name[-3:5:-2])\n",
    "print(name[8:-14:-2])"
   ]
  },
  {
   "cell_type": "markdown",
   "metadata": {},
   "source": [
    "### Note\n",
    "\n",
    "1) If start and/or end are absent and step is present, direction is governed by step size.<br>\n",
    "2) If all 3 are present, direction is governed by the combination of start:end and step size combined.\n",
    "String will be sliced when both the directions are same.<br>\n",
    "3) When start is absent and step size is negative, string will be sliced from the right end towards the left<br>\n",
    "4) Positive direction is left to right(step size is positive) and negative direction is from right to left(step size is negative)\n"
   ]
  },
  {
   "cell_type": "code",
   "execution_count": null,
   "metadata": {},
   "outputs": [],
   "source": [
    "# When end is absent, start and step are given\n",
    "print(name)\n",
    "print(name[3::-2])\n",
    "print(name[5::2])\n",
    "print(name[-2::-2])\n",
    "print(name[-5::3])"
   ]
  },
  {
   "cell_type": "code",
   "execution_count": null,
   "metadata": {},
   "outputs": [],
   "source": [
    "# When start is absent, end and step are given\n",
    "print(name[:8:2])\n",
    "print(name[:-12:-1])\n",
    "print(name[:-7:3])\n",
    "print(name[:3:-2])\n"
   ]
  },
  {
   "cell_type": "code",
   "execution_count": null,
   "metadata": {},
   "outputs": [],
   "source": [
    "# When start and end both are absent, step is given\n",
    "print(name)\n",
    "print(name[::3])\n",
    "print(name[::2])\n",
    "print(name[::-1])  # Reverse a string\n",
    "print(name[::-3])"
   ]
  },
  {
   "cell_type": "code",
   "execution_count": null,
   "metadata": {},
   "outputs": [],
   "source": [
    "# Reverse a string\n",
    "print(name[::-1])"
   ]
  },
  {
   "cell_type": "markdown",
   "metadata": {},
   "source": [
    "### String Functions"
   ]
  },
  {
   "cell_type": "code",
   "execution_count": null,
   "metadata": {},
   "outputs": [],
   "source": [
    "s1 = \"working on python\"\n",
    "s2 = \"3234986\"\n",
    "s3 = \"abc@gmail.com\"\n",
    "s4 = \"banking\"\n",
    "s5 = \"defk1234\"\n",
    "print(s1)"
   ]
  },
  {
   "cell_type": "code",
   "execution_count": null,
   "metadata": {},
   "outputs": [],
   "source": [
    "a = \"Ankit\"\n",
    "city = \"Noida\"\n",
    "print('{} lives in {}'.format(a,city))\n",
    "print(f'{a} lives in {city}')\n",
    "print(f\"{a} lives in {city}\")"
   ]
  },
  {
   "cell_type": "code",
   "execution_count": null,
   "metadata": {},
   "outputs": [],
   "source": [
    "s1 = \"working on python\"     \n",
    "\n",
    "print(s1.upper())      # WORKING ON PYTHON\n",
    "print(s1.capitalize()) # Working on python\n",
    "print(s1.title())      # Working On Python\n",
    "w = \"PythoN CodinG\"\n",
    "print(w.lower()) \n",
    "print(w.swapcase())"
   ]
  },
  {
   "cell_type": "code",
   "execution_count": null,
   "metadata": {},
   "outputs": [],
   "source": [
    "d = \"hello world\"\n",
    "d1 = \"HELLO 67WORL.D$%\"\n",
    "d2 = \"Hello World\"\n",
    "d3,d4 = \"21314H\",\"%&^32432fhdg\"\n",
    "print(d.isupper())\n",
    "print(d1.isupper())\n",
    "print(d2.isupper())\n",
    "print(d3.isupper())\n",
    "print(d4.isupper())\n",
    "print('------')\n",
    "print(d.islower())\n",
    "print(d1.islower())\n",
    "print(d2.islower())\n",
    "print(d3.islower())\n",
    "print(d4.islower())"
   ]
  },
  {
   "cell_type": "code",
   "execution_count": null,
   "metadata": {},
   "outputs": [],
   "source": [
    "s1 = \"defk1234\"\n",
    "print(s1.isalnum()) # isalphanumeric\n",
    "s2 = \"Banking\"\n",
    "print(s2.isalpha())\n",
    "s3 = \"325435\"\n",
    "print(s3.isdigit())\n",
    "s4 = \"abc@gmail.com\"\n",
    "print(s4.isalnum())\n",
    "# special characters if present in string evaluated for isalnum(), returns False"
   ]
  },
  {
   "cell_type": "code",
   "execution_count": null,
   "metadata": {},
   "outputs": [],
   "source": [
    "s2 = \"Banki ng\"\n",
    "print(s2.isalnum())\n",
    "s2 = \"Banking\"\n",
    "print(s2.isalnum())\n",
    "s2 = \"Banking56\"\n",
    "print(s2.isalpha())"
   ]
  },
  {
   "cell_type": "code",
   "execution_count": null,
   "metadata": {},
   "outputs": [],
   "source": [
    "w = \"abc123gmailcom\"\n",
    "print(w.isalnum())"
   ]
  },
  {
   "cell_type": "code",
   "execution_count": null,
   "metadata": {},
   "outputs": [],
   "source": [
    "s = \"abc798\"\n",
    "s1 = \"abcDEF\"\n",
    "s2 = \"abc DEF\"\n",
    "print(s.isalpha())\n",
    "print(s1.isalpha()) \n",
    "print(s2.isalpha()) # space if present in string, isalpha returns False\n",
    "print(s.isalnum())"
   ]
  },
  {
   "cell_type": "code",
   "execution_count": null,
   "metadata": {},
   "outputs": [],
   "source": [
    "s6 = \"         \"\n",
    "s6.isspace()"
   ]
  },
  {
   "cell_type": "code",
   "execution_count": null,
   "metadata": {},
   "outputs": [],
   "source": [
    "s1 = \"Working on Python\"\n",
    "print(s1.startswith('Wor'))\n",
    "print(s1.startswith('wor'))\n",
    "print(s1.endswith('tho'))\n",
    "print(s1.endswith('hon'))"
   ]
  },
  {
   "cell_type": "code",
   "execution_count": null,
   "metadata": {},
   "outputs": [],
   "source": [
    "s7 = \"     this is    python         \"\n",
    "print(s7.lstrip()) # removes extra space from left\n",
    "print(s7.rstrip()) # removes extra space from right\n",
    "print(s7.strip())  # removes extra space from left and right\n",
    "# split function won't remove extra space from anywhere within of the string\n",
    "print(s7)"
   ]
  },
  {
   "cell_type": "code",
   "execution_count": null,
   "metadata": {},
   "outputs": [],
   "source": [
    "n1 = 5\n",
    "print(n1*4)\n",
    "\n",
    "d1 = \"Hello \"\n",
    "d2 = d1*5\n",
    "print(d2)"
   ]
  },
  {
   "cell_type": "code",
   "execution_count": null,
   "metadata": {},
   "outputs": [],
   "source": [
    "# String concatenation - adding string\n",
    "a = \"Pollution level\"\n",
    "b = \"hits all time high\"\n",
    "c = \"in Delhi, post Diwali.\"\n",
    "d =  a+b+c\n",
    "print(d)\n",
    "print(a,b,c)\n",
    "print(a+\" \"+b+\" \"+c)  # string concatenation\n",
    "print(f\"{a} {b} {c}\")\n",
    "print(\"{} {} {}\".format(a,b,c))"
   ]
  },
  {
   "cell_type": "code",
   "execution_count": null,
   "metadata": {},
   "outputs": [],
   "source": [
    "# ord() gives ASCII value of an any character/spcl character/\n",
    "# ASCII - American Standard code for Information Interchange\n",
    "# A-Z = 65 - 90\n",
    "# a-z = 97 - 122\n",
    "# ord - ordinal\n",
    "# chr - character\n",
    "\n",
    "print(ord('c'))\n",
    "print(ord('B'))\n",
    "print(chr(65))\n",
    "print(chr(90))\n",
    "print(chr(97))\n",
    "print(chr(122))\n",
    "print(chr(85))\n",
    "print(chr(45))\n",
    "print(chr(48))"
   ]
  },
  {
   "cell_type": "code",
   "execution_count": null,
   "metadata": {},
   "outputs": [],
   "source": [
    "for i in range(40,125):\n",
    "    print(chr(i),end=\",\")"
   ]
  },
  {
   "cell_type": "code",
   "execution_count": null,
   "metadata": {},
   "outputs": [],
   "source": [
    "text = \"Elon plans to colonize Mars by 2024\"\n",
    "print(text)\n",
    "print(text[5])"
   ]
  },
  {
   "cell_type": "code",
   "execution_count": null,
   "metadata": {},
   "outputs": [],
   "source": [
    "## Updating a string - throws an error .\n",
    "# Conclusion :- Strings are immutatble(ie. can't be changed)\n",
    "text[5] = 'g'\n",
    "print(text)"
   ]
  },
  {
   "cell_type": "code",
   "execution_count": null,
   "metadata": {},
   "outputs": [],
   "source": [
    "print(text)"
   ]
  },
  {
   "cell_type": "code",
   "execution_count": null,
   "metadata": {},
   "outputs": [],
   "source": [
    "# del is used to perform delete operation\n",
    "print(text)\n",
    "del text"
   ]
  },
  {
   "cell_type": "code",
   "execution_count": null,
   "metadata": {},
   "outputs": [],
   "source": [
    "# Deleting a string/variable\n",
    "print(text)"
   ]
  },
  {
   "cell_type": "code",
   "execution_count": null,
   "metadata": {},
   "outputs": [],
   "source": [
    "# String replace\n",
    "t1 = \"Sheldon Cooper won the nobel prize in the last Season of the Big Bang Theory.\"\n",
    "print(t1)"
   ]
  },
  {
   "cell_type": "code",
   "execution_count": null,
   "metadata": {},
   "outputs": [],
   "source": [
    "print(t1.replace('won the','lost'))"
   ]
  },
  {
   "cell_type": "code",
   "execution_count": null,
   "metadata": {},
   "outputs": [],
   "source": [
    "print(t1)"
   ]
  },
  {
   "cell_type": "code",
   "execution_count": null,
   "metadata": {},
   "outputs": [],
   "source": [
    "# String split - It returns a list\n",
    "t2 = \"Messi is light years ahead of Ronaldo.\"\n",
    "print(t2)"
   ]
  },
  {
   "cell_type": "code",
   "execution_count": null,
   "metadata": {},
   "outputs": [],
   "source": [
    "print(t2[0:5])"
   ]
  },
  {
   "cell_type": "markdown",
   "metadata": {},
   "source": [
    "#### split()\n",
    "\n",
    "1) split function returns list as its output<br>\n",
    "2) Removes the entity based on which the split function has been applied"
   ]
  },
  {
   "cell_type": "code",
   "execution_count": null,
   "metadata": {},
   "outputs": [],
   "source": [
    "t2 = 'Messi is light years ahead of Ronaldo.'\n",
    "t3 = t2.split() # splits wrt space by default\n",
    "t4 = t2.split(' ')\n",
    "print(t3)\n",
    "print(t4)\n",
    "type(t3)"
   ]
  },
  {
   "cell_type": "code",
   "execution_count": null,
   "metadata": {},
   "outputs": [],
   "source": [
    "print(t2)\n",
    "t5 = t2.split('i')\n",
    "print(t5)"
   ]
  },
  {
   "cell_type": "code",
   "execution_count": null,
   "metadata": {},
   "outputs": [],
   "source": [
    "print(t3)"
   ]
  },
  {
   "cell_type": "code",
   "execution_count": null,
   "metadata": {},
   "outputs": [],
   "source": [
    "print(t3)\n",
    "print(t3[0])\n",
    "print(t3[2])\n",
    "print(t3[-1])\n",
    "print(t3[2:6])"
   ]
  },
  {
   "cell_type": "code",
   "execution_count": null,
   "metadata": {},
   "outputs": [],
   "source": [
    "print(t3)\n",
    "print(t3[0])\n",
    "print(t3[0][0])\n",
    "print(t3[-1][2::3])\n",
    "print(t3[6][-3::-3])\n",
    "print(t3[6][-3:1:-1])  # Ronaldo."
   ]
  },
  {
   "cell_type": "code",
   "execution_count": null,
   "metadata": {
    "scrolled": true
   },
   "outputs": [],
   "source": [
    "print(t3)"
   ]
  },
  {
   "cell_type": "code",
   "execution_count": null,
   "metadata": {},
   "outputs": [],
   "source": [
    "print(t1)"
   ]
  },
  {
   "cell_type": "markdown",
   "metadata": {},
   "source": [
    "#### count()\n",
    "Counts the occurence of a given <b>character</b> or a <b>substring</b> in a string\n"
   ]
  },
  {
   "cell_type": "code",
   "execution_count": null,
   "metadata": {},
   "outputs": [],
   "source": [
    "print(t1)\n",
    "print(t1.count('on'))\n",
    "print(t1.count('n th'))\n",
    "print(t1.count('hello'))\n",
    "print(t1.count('nobel'))"
   ]
  },
  {
   "cell_type": "markdown",
   "metadata": {},
   "source": [
    "#### Index - Returns the index of substring at its first occurence, if substring is not found, it returns an error"
   ]
  },
  {
   "cell_type": "code",
   "execution_count": null,
   "metadata": {},
   "outputs": [],
   "source": [
    "# Index - returns index starting from 0\n",
    "print(t1)\n",
    "print(t1.index('oope'))\n",
    "print(t1.index('the'))\n",
    "print(t1.index('ize in the'))\n",
    "print(t1[29:41])\n",
    "print(t1.index('s',29,41))\n"
   ]
  },
  {
   "cell_type": "markdown",
   "metadata": {},
   "source": [
    "#### find() \n",
    "Returns index of first occurence starting from 0. Used to find index of substring in a string.\n",
    "will return -1 is substring is absent"
   ]
  },
  {
   "cell_type": "code",
   "execution_count": null,
   "metadata": {},
   "outputs": [],
   "source": [
    "print(t1)\n",
    "print(t1.find('p'))\n",
    "print(t1.find('Theory'))\n",
    "print(t1.find('nobel'))\n",
    "print(t1[40:51])\n",
    "print(t1.find('the',40,51))\n",
    "print(t1.find('last',40,51))\n",
    "print(t1.find('s',40,51))\n",
    "print(t1.find('s',45,51))\n",
    "print(t1.find('hello'))"
   ]
  },
  {
   "cell_type": "code",
   "execution_count": null,
   "metadata": {},
   "outputs": [],
   "source": [
    "print(t1.count('s'))\n",
    "print(t1.find('s')) # index of 1st s\n",
    "print(t1.find('s',45,70)) # index of 2nd s"
   ]
  }
 ],
 "metadata": {
  "kernelspec": {
   "display_name": "Python 3",
   "language": "python",
   "name": "python3"
  },
  "language_info": {
   "codemirror_mode": {
    "name": "ipython",
    "version": 3
   },
   "file_extension": ".py",
   "mimetype": "text/x-python",
   "name": "python",
   "nbconvert_exporter": "python",
   "pygments_lexer": "ipython3",
   "version": "3.8.8"
  }
 },
 "nbformat": 4,
 "nbformat_minor": 2
}
