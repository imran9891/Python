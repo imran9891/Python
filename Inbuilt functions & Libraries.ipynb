{
 "cells": [
  {
   "cell_type": "code",
   "execution_count": null,
   "metadata": {},
   "outputs": [],
   "source": [
    "def add(a,b):\n",
    "    res = a+b\n",
    "    print(res)\n",
    "\n",
    "add(3,4)"
   ]
  },
  {
   "cell_type": "markdown",
   "metadata": {},
   "source": [
    "### 1)  lambda\n",
    "It is used to create anonymous functions. <br>\n",
    "Syntax : <br>\n",
    "#### lambda parameters : expression<br>\n",
    "The expression lambda parameters: expression yields a function object. "
   ]
  },
  {
   "cell_type": "code",
   "execution_count": null,
   "metadata": {},
   "outputs": [],
   "source": [
    "r = lambda x,y : x+y\n",
    "print(r(3,5))\n",
    "print(r(10,12))\n",
    "print(r(\"Hello\", \"World\"))\n",
    "print(type(r))\n",
    "print(type(r(2,5)))\n",
    "print(type(r(\"Hello\", \"World\")))"
   ]
  },
  {
   "cell_type": "code",
   "execution_count": null,
   "metadata": {},
   "outputs": [],
   "source": [
    "# IIFE - Immediately Invoked Function Expression\n",
    "print((lambda a,b : a*b)(2,3))"
   ]
  },
  {
   "cell_type": "code",
   "execution_count": null,
   "metadata": {},
   "outputs": [],
   "source": [
    "# Finding initials of a name\n",
    "w = lambda x,y :x[0].upper() + y[0].upper()\n",
    "print(w('Elon','Musk'))\n",
    "print(w('sundar','pichai'))"
   ]
  },
  {
   "cell_type": "markdown",
   "metadata": {},
   "source": [
    "map(fun,iterator)<br>\n",
    "filter(fun,iterator)<br>\n",
    "reduce(fun,iterator)\n",
    "\n",
    "List of iterators<br>\n",
    "1) list<br>\n",
    "2) tuple<br>\n",
    "3) set<br>\n",
    "4) dict<br>\n",
    "5) strings\n"
   ]
  },
  {
   "cell_type": "markdown",
   "metadata": {},
   "source": [
    "### 2) map function -\n",
    "\n",
    "The map() function calls the specified function for each item of an iterable (such as string, list, tuple or dictionary) and returns a list of results. "
   ]
  },
  {
   "cell_type": "code",
   "execution_count": null,
   "metadata": {},
   "outputs": [],
   "source": [
    "def sqr(x):\n",
    "    return x*x\n",
    "\n",
    "sqr(5)"
   ]
  },
  {
   "cell_type": "code",
   "execution_count": null,
   "metadata": {},
   "outputs": [],
   "source": [
    "r = [1,2,3,10,13]\n",
    "res = list(map(sqr,r))\n",
    "print(res)\n",
    "res1 = list(map(lambda x:x**2,r))\n",
    "print(res1)"
   ]
  },
  {
   "cell_type": "code",
   "execution_count": null,
   "metadata": {},
   "outputs": [],
   "source": [
    "r = [1,2,3,10,13]\n",
    "res1 = tuple(map(lambda x: x+10,r))\n",
    "print(res1)"
   ]
  },
  {
   "cell_type": "code",
   "execution_count": null,
   "metadata": {},
   "outputs": [],
   "source": [
    "r1 = (11,12,13,10,15)\n",
    "r2 = {1,4,5,6,10}\n",
    "res2 = set(map(lambda x: x-5,r1))\n",
    "res3 = list(map(lambda x: x**3,r2))\n",
    "print(res2)\n",
    "print(res3)"
   ]
  },
  {
   "cell_type": "code",
   "execution_count": null,
   "metadata": {},
   "outputs": [],
   "source": [
    "d = {'a1':5,'a2':10,'a3':15}\n",
    "print(d['a1'])\n",
    "for i in d:\n",
    "    print(i,d[i])"
   ]
  },
  {
   "cell_type": "code",
   "execution_count": null,
   "metadata": {},
   "outputs": [],
   "source": [
    "d = {'a1':5,'a2':10,'a3':15}\n",
    "# map function works on keys when it comes to dict, by default\n",
    "q1 = list(map(lambda x : x+\"-Hello\",d))\n",
    "print(q1)\n",
    "q2 = list(map(lambda x : d[x]+10,d))\n",
    "print(q2)"
   ]
  },
  {
   "cell_type": "markdown",
   "metadata": {},
   "source": [
    "### 3) filter()  \n",
    "\n",
    "Return an iterator yielding those items of iterable for which function(item) is true. "
   ]
  },
  {
   "cell_type": "code",
   "execution_count": null,
   "metadata": {},
   "outputs": [],
   "source": [
    "r1 = (11,12,13,10,15)\n",
    "r2 = {1,4,5,6,17,19}\n",
    "res2 = set(filter(lambda x: x<13,r1))\n",
    "res3 = list(filter(lambda x: x%2==0,r2))\n",
    "print(res2)\n",
    "print(res3)"
   ]
  },
  {
   "cell_type": "code",
   "execution_count": null,
   "metadata": {},
   "outputs": [],
   "source": [
    "# applying map in place of filter and filter in place of map\n",
    "w = [1,2,3,4,5,6,7,8]\n",
    "r1 = list(map(lambda x : x%2==0,w))\n",
    "r2 = list(filter(lambda x : x*4,w))\n",
    "print(r1)\n",
    "print(r2)"
   ]
  },
  {
   "cell_type": "code",
   "execution_count": null,
   "metadata": {},
   "outputs": [],
   "source": [
    "# filter() operates on keys by default\n",
    "d = {'city':10,'age':15,'name':7}\n",
    "\n",
    "w1 = list(filter(lambda x: x.startswith('c') ,d))\n",
    "print(w1)\n",
    "w2 = list(filter(lambda x: x%2!=0 ,d.values()))\n",
    "print(w2)"
   ]
  },
  {
   "cell_type": "code",
   "execution_count": null,
   "metadata": {},
   "outputs": [],
   "source": [
    "from functools import reduce"
   ]
  },
  {
   "cell_type": "code",
   "execution_count": null,
   "metadata": {},
   "outputs": [],
   "source": [
    "z = [10,20,30,40,50]\n",
    "res = reduce(lambda x,y : x+y, z)\n",
    "# S1 - x= 10,y=20, x+y= 30\n",
    "# S2 - x= 30,y=30, x+y=60\n",
    "# S3 - x= 60,y=40, x+y=100\n",
    "# S4 - x= 100,y=50, x+y=150\n",
    "print(res)"
   ]
  },
  {
   "cell_type": "code",
   "execution_count": null,
   "metadata": {},
   "outputs": [],
   "source": [
    "e = {1,2,3,4,5}\n",
    "res = reduce(lambda x,y:x*y,e)\n",
    "print(res)"
   ]
  },
  {
   "cell_type": "markdown",
   "metadata": {},
   "source": [
    "### 5) enumerate() \n",
    "It adds a counter to an iterable"
   ]
  },
  {
   "cell_type": "code",
   "execution_count": null,
   "metadata": {},
   "outputs": [],
   "source": [
    "d = [11,12,13,14,15]\n",
    "# Element wise iteration\n",
    "# for i in d:\n",
    "#     print(i)\n",
    "# Index wise iteration\n",
    "for i in range(len(d)):\n",
    "    print(i,d[i])"
   ]
  },
  {
   "cell_type": "code",
   "execution_count": null,
   "metadata": {},
   "outputs": [],
   "source": [
    "print(d)\n",
    "# i represents the counter element, while j represents elements of the list\n",
    "for i,j in enumerate(d):\n",
    "    print(i,j)"
   ]
  },
  {
   "cell_type": "code",
   "execution_count": null,
   "metadata": {},
   "outputs": [],
   "source": [
    "# tuples \n",
    "t1 = (10,20,30,40)\n",
    "for i,j in enumerate(t1):\n",
    "    print(i,j)"
   ]
  },
  {
   "cell_type": "code",
   "execution_count": null,
   "metadata": {},
   "outputs": [],
   "source": [
    "# set\n",
    "s1 = {10,20,30,40}\n",
    "print(s1)\n",
    "for i,j in enumerate(s1):\n",
    "    print(i,j)"
   ]
  },
  {
   "cell_type": "code",
   "execution_count": null,
   "metadata": {},
   "outputs": [],
   "source": [
    "d = {'a1':5,'a2':10,'a3':15}"
   ]
  },
  {
   "cell_type": "code",
   "execution_count": null,
   "metadata": {},
   "outputs": [],
   "source": [
    "for i in d:\n",
    "    print(i,d[i])"
   ]
  },
  {
   "cell_type": "code",
   "execution_count": null,
   "metadata": {},
   "outputs": [],
   "source": [
    "for i in d.keys():\n",
    "    print(i,d[i])"
   ]
  },
  {
   "cell_type": "code",
   "execution_count": null,
   "metadata": {},
   "outputs": [],
   "source": [
    "for i in d.values():\n",
    "    print(i)"
   ]
  },
  {
   "cell_type": "code",
   "execution_count": null,
   "metadata": {},
   "outputs": [],
   "source": [
    "for i in d.items():\n",
    "    print(i)"
   ]
  },
  {
   "cell_type": "code",
   "execution_count": null,
   "metadata": {},
   "outputs": [],
   "source": [
    "for i,j in d.items():\n",
    "    print(i,j)"
   ]
  },
  {
   "cell_type": "code",
   "execution_count": null,
   "metadata": {},
   "outputs": [],
   "source": [
    "# enumerate in dict\n",
    "print(d)\n",
    "# enumerate operates on keys by defualt,when it comes to dict\n",
    "for i,j in enumerate(d):\n",
    "    print(i,j,d[j])"
   ]
  },
  {
   "cell_type": "code",
   "execution_count": null,
   "metadata": {},
   "outputs": [],
   "source": [
    "print(d)\n",
    "for i,j in enumerate(d.keys()):\n",
    "    print(i,j,d[j])"
   ]
  },
  {
   "cell_type": "code",
   "execution_count": null,
   "metadata": {},
   "outputs": [],
   "source": [
    "print(d)\n",
    "for i,j in enumerate(d.values()):\n",
    "    print(i,j)"
   ]
  },
  {
   "cell_type": "code",
   "execution_count": null,
   "metadata": {},
   "outputs": [],
   "source": [
    "print(d)\n",
    "for i,j in enumerate(d.items()):\n",
    "    print(i,j)"
   ]
  },
  {
   "cell_type": "code",
   "execution_count": null,
   "metadata": {},
   "outputs": [],
   "source": [
    "print(d)\n",
    "for i,k,v in enumerate(d.items()):\n",
    "    print(i,k,v)"
   ]
  },
  {
   "cell_type": "markdown",
   "metadata": {},
   "source": [
    "### 6) zip() \n",
    "\n",
    "zip() function creates an iterator that will aggregate elements from two or more iterables."
   ]
  },
  {
   "cell_type": "code",
   "execution_count": null,
   "metadata": {},
   "outputs": [],
   "source": [
    "r1 = [1,2,3,4,5]\n",
    "r2 = [10,12,14,16,17]\n",
    "res1 = list(zip(r1,r2))\n",
    "res2 = tuple(zip(r1,r2))\n",
    "res3 = set(zip(r1,r2))\n",
    "res4 = dict(zip(r1,r2))\n",
    "print(res1)\n",
    "print(res2)\n",
    "print(res3)\n",
    "print(res4)"
   ]
  },
  {
   "cell_type": "code",
   "execution_count": null,
   "metadata": {},
   "outputs": [],
   "source": [
    "r1 = [1,2,3,4,5,6,7,8,9]\n",
    "r2 = [10,12,14,16,17]\n",
    "res1 = list(zip(r1,r2))\n",
    "res2 = tuple(zip(r1,r2))\n",
    "res3 = set(zip(r1,r2))\n",
    "res4 = dict(zip(r1,r2))\n",
    "print(res1)\n",
    "print(res2)\n",
    "print(res3)\n",
    "print(res4)"
   ]
  },
  {
   "cell_type": "code",
   "execution_count": null,
   "metadata": {},
   "outputs": [],
   "source": [
    "r1 = [1,2,3,4,5,6,7,8,9]\n",
    "r2 = {10,12,14,16,17}\n",
    "r3 = (23,24,25,26,27)\n",
    "res1 = list(zip(r1,r2,r3))\n",
    "res2 = set(zip(r1,r2,r3))\n",
    "res3 = tuple(zip(r1,r2,r3))\n",
    "print(res1)\n",
    "print(res2)\n",
    "print(res3)"
   ]
  },
  {
   "cell_type": "code",
   "execution_count": null,
   "metadata": {},
   "outputs": [],
   "source": [
    "res3 = dict(zip(r1,r2,r3))\n",
    "print(res3)"
   ]
  },
  {
   "cell_type": "markdown",
   "metadata": {},
   "source": [
    "### 7) eval()\n",
    "Evaluates an expression written in python"
   ]
  },
  {
   "cell_type": "code",
   "execution_count": null,
   "metadata": {},
   "outputs": [],
   "source": [
    "n = input()\n",
    "print(n)\n",
    "print(eval(n))"
   ]
  },
  {
   "cell_type": "code",
   "execution_count": null,
   "metadata": {},
   "outputs": [],
   "source": [
    "# n = input()\n",
    "print(7*8)\n",
    "# eval(n)"
   ]
  },
  {
   "cell_type": "code",
   "execution_count": null,
   "metadata": {},
   "outputs": [],
   "source": [
    "a = 10\n",
    "print(a)\n",
    "type(a)"
   ]
  },
  {
   "cell_type": "markdown",
   "metadata": {},
   "source": [
    "### Python libraries"
   ]
  },
  {
   "cell_type": "code",
   "execution_count": null,
   "metadata": {},
   "outputs": [],
   "source": [
    "import math as m\n",
    "import random as r"
   ]
  },
  {
   "cell_type": "code",
   "execution_count": null,
   "metadata": {},
   "outputs": [],
   "source": [
    "print(m.gcd(18,30))\n",
    "print(m.factorial(5))\n",
    "print(m.floor(7.3))\n",
    "print(m.ceil(7.3))\n",
    "print(m.sqrt(49))\n",
    "print(m.hypot(3,4)) # hypotenuse"
   ]
  },
  {
   "cell_type": "code",
   "execution_count": null,
   "metadata": {},
   "outputs": [],
   "source": [
    "print(r.random()) # between 0 and 1\n",
    "print(r.random()*10)\n",
    "print(m.ceil(r.random()*10))"
   ]
  },
  {
   "cell_type": "code",
   "execution_count": null,
   "metadata": {},
   "outputs": [],
   "source": [
    "print(r.randint(10,30))\n",
    "print(r.randint(10,30))\n",
    "print(r.randint(10,30))"
   ]
  },
  {
   "cell_type": "code",
   "execution_count": null,
   "metadata": {},
   "outputs": [],
   "source": [
    "d = [11,32,34,45,56]\n",
    "print(d)\n",
    "r.shuffle(d)\n",
    "print(d)"
   ]
  },
  {
   "cell_type": "code",
   "execution_count": null,
   "metadata": {},
   "outputs": [],
   "source": [
    "t = set(r.choices([12,13,14,5,16,18,19,23,34,45,56,67],k=10))\n",
    "print(t)\n",
    "print(list(t))"
   ]
  },
  {
   "cell_type": "code",
   "execution_count": null,
   "metadata": {},
   "outputs": [],
   "source": [
    "t = r.choices(range(10,50),k=10)\n",
    "print(t)"
   ]
  },
  {
   "cell_type": "code",
   "execution_count": null,
   "metadata": {},
   "outputs": [],
   "source": [
    "# import random as r\n",
    "# dir(r)"
   ]
  },
  {
   "cell_type": "markdown",
   "metadata": {},
   "source": [
    "### Counter"
   ]
  },
  {
   "cell_type": "code",
   "execution_count": null,
   "metadata": {},
   "outputs": [],
   "source": [
    "from collections import Counter"
   ]
  },
  {
   "cell_type": "code",
   "execution_count": null,
   "metadata": {},
   "outputs": [],
   "source": [
    "d = [11,22,11,23,34,45,34,23,11]\n",
    "r = Counter(d)\n",
    "print(r)"
   ]
  },
  {
   "cell_type": "code",
   "execution_count": null,
   "metadata": {},
   "outputs": [],
   "source": [
    "s = \"Hello Python World\"\n",
    "r = Counter(s)\n",
    "print(r)"
   ]
  },
  {
   "cell_type": "code",
   "execution_count": null,
   "metadata": {},
   "outputs": [],
   "source": [
    "d = [11,22,11,23,34,45,34,23,11]\n",
    "dc={}\n",
    "for i in d:\n",
    "    if not i in dc:\n",
    "        dc[i] = 1\n",
    "    else:\n",
    "        dc[i]+= 1\n",
    "#         continue\n",
    "dc"
   ]
  },
  {
   "cell_type": "markdown",
   "metadata": {},
   "source": [
    "### Combinations\n",
    "\n",
    "nCr = n!/((n-r)! *r!)\n",
    "\n",
    "Combinations = Arrangement<br>\n",
    "Permuatation = Selection"
   ]
  },
  {
   "cell_type": "code",
   "execution_count": null,
   "metadata": {},
   "outputs": [],
   "source": [
    "from itertools import combinations as cmb"
   ]
  },
  {
   "cell_type": "code",
   "execution_count": null,
   "metadata": {},
   "outputs": [],
   "source": [
    "d =[20,30,10,15,5]  # len(d) = 5\n",
    "res = list(cmb(d,3)) # 5C3 = 10\n",
    "print(res)\n",
    "print(len(res))"
   ]
  },
  {
   "cell_type": "markdown",
   "metadata": {},
   "source": [
    "### Permutataions\n",
    "\n",
    "nPr = n!/(n-r)!\n",
    "\n",
    "Combinations = Arrangement<br>\n",
    "Permuatation = Selection"
   ]
  },
  {
   "cell_type": "code",
   "execution_count": null,
   "metadata": {},
   "outputs": [],
   "source": [
    "from itertools import permutations as per"
   ]
  },
  {
   "cell_type": "code",
   "execution_count": null,
   "metadata": {},
   "outputs": [],
   "source": [
    "f =  ['a','b','c'] # len(f) = 3\n",
    "r = list(per(f,2))  # 3P2 = 6\n",
    "print(r)"
   ]
  },
  {
   "cell_type": "code",
   "execution_count": null,
   "metadata": {},
   "outputs": [],
   "source": [
    "f =  ['a','b','c','d'] # len(f) = 4\n",
    "r = list(per(f,2))  # 4P2 = 12\n",
    "print(r)\n",
    "print(len(r))"
   ]
  },
  {
   "cell_type": "markdown",
   "metadata": {},
   "source": [
    "### Practice Questions\n",
    "\n",
    "1) Assume any list of lower case words, WAF to using lambda to generate a list containing<br>\n",
    "i) the length of each word<br>\n",
    "ii) the words but in upper\n",
    "\n",
    "2) From a list of strings, WAF to using lambda to generate a list and popluate it with palindromes from the given list\n",
    "\n",
    "3) Given a list of strings and a string word, print all anagrams of word using lambda\n",
    "\n",
    "4) From agiven list of number find all the pairs (of two or more numbers) of numbers that add upto 50. <br>\n",
    "The list is a =[20, 30, 10, 15, 5, 1, 1, 1,1,1]\n",
    "\n",
    "5) From a list of containing list of names, list of ages and list of cities. Extract, name and thier corresponding ages and return them in a dict"
   ]
  },
  {
   "cell_type": "code",
   "execution_count": null,
   "metadata": {},
   "outputs": [],
   "source": [
    "words = ['imran','simran']\n",
    "list(map(lambda x:len(x),words))\n",
    "list(map(lambda x:x.upper(),words))"
   ]
  },
  {
   "cell_type": "code",
   "execution_count": null,
   "metadata": {},
   "outputs": [],
   "source": [
    "print(Counter('mark'))\n",
    "print(Counter('krma'))"
   ]
  },
  {
   "cell_type": "code",
   "execution_count": null,
   "metadata": {},
   "outputs": [],
   "source": [
    "word = 'mark'\n",
    "for i in per(word,4):\n",
    "    print(''.join(i),end=\",\")"
   ]
  },
  {
   "cell_type": "code",
   "execution_count": null,
   "metadata": {},
   "outputs": [],
   "source": [
    "n = int(input('Enter no of transactions: '))\n",
    "bal = float(input('Enter balance amount: '))\n",
    "i=0\n",
    "while(i<n):\n",
    "    tran = input()  # string - D 350 or W 250\n",
    "    ttype = tran.split()[0]\n",
    "    amt = float(tran.split()[1])\n",
    "    if ttype=='D':\n",
    "        bal += float(amt)\n",
    "    elif ttype==\"W\" and amt<bal and i!=1:\n",
    "        bal -= float(amt)\n",
    "    i+=1\n",
    "print('Net Balance',bal)"
   ]
  }
 ],
 "metadata": {
  "kernelspec": {
   "display_name": "Python 3",
   "language": "python",
   "name": "python3"
  },
  "language_info": {
   "codemirror_mode": {
    "name": "ipython",
    "version": 3
   },
   "file_extension": ".py",
   "mimetype": "text/x-python",
   "name": "python",
   "nbconvert_exporter": "python",
   "pygments_lexer": "ipython3",
   "version": "3.8.8"
  }
 },
 "nbformat": 4,
 "nbformat_minor": 2
}
